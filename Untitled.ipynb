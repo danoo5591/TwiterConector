{
 "cells": [
  {
   "cell_type": "code",
   "execution_count": 41,
   "metadata": {
    "collapsed": false
   },
   "outputs": [
    {
     "name": "stdout",
     "output_type": "stream",
     "text": [
      "{'a1': 1, 'a2': 2} <type 'dict'>\n",
      "a\n",
      "a\n",
      "1 <type 'int'>\n",
      "2 <type 'int'>\n"
     ]
    }
   ],
   "source": [
    "%run arg_example.py a 1 2"
   ]
  },
  {
   "cell_type": "code",
   "execution_count": 21,
   "metadata": {
    "collapsed": true
   },
   "outputs": [],
   "source": [
    "import argparse"
   ]
  },
  {
   "cell_type": "code",
   "execution_count": 30,
   "metadata": {
    "collapsed": true
   },
   "outputs": [],
   "source": [
    "def a(a1, a2):\n",
    "    print a1, a2"
   ]
  },
  {
   "cell_type": "code",
   "execution_count": 31,
   "metadata": {
    "collapsed": true
   },
   "outputs": [],
   "source": [
    "d = {'a1': 'A', 'a2': 'B'}"
   ]
  },
  {
   "cell_type": "code",
   "execution_count": 32,
   "metadata": {
    "collapsed": false
   },
   "outputs": [
    {
     "name": "stdout",
     "output_type": "stream",
     "text": [
      "A B\n"
     ]
    }
   ],
   "source": [
    "a(**d)"
   ]
  },
  {
   "cell_type": "code",
   "execution_count": 61,
   "metadata": {
    "collapsed": false
   },
   "outputs": [
    {
     "name": "stdout",
     "output_type": "stream",
     "text": [
      "{'user_name': '@Subrayado'}\n",
      "                   0\n",
      "tweets        124061\n",
      "friends          247\n",
      "favourites        22\n",
      "list_appears     795\n",
      "followers     547065\n"
     ]
    }
   ],
   "source": [
    "%run tw_retrival.py estadisticas \"@Subrayado\""
   ]
  },
  {
   "cell_type": "code",
   "execution_count": 63,
   "metadata": {
    "collapsed": false
   },
   "outputs": [
    {
     "name": "stdout",
     "output_type": "stream",
     "text": [
      "{'cant_tweets': 15, 'user_name': '@Subrayado'}\n",
      "                   lang                                               text  \\\n",
      "898680573576724480   es  TESTIMONIO: Enfermera uruguaya se salvó por po...   \n",
      "898682227919343617   es  Fiscal general de Venezuela y su esposo huyero...   \n",
      "898686499297689600   es  Retiran 66 toneladas de basura de terreno bald...   \n",
      "898693418213400576   es  Comercios de pequeñas localidades podrán prest...   \n",
      "898701799384854528   es  Producción de cannabis no psicoactivo con fine...   \n",
      "898715806888079364   es  Intendentes blancos cuestionan ampliación de c...   \n",
      "898719444633096192   es  Policía cree que una célula de 12 personas per...   \n",
      "898880712647909377   es  13 departamentos bajo alerta amarilla por torm...   \n",
      "898883031938867202   es  El grupo Estado Islámico reivindica el ataque ...   \n",
      "898885819452145664   es  Un hombre armado con cuchillo apuñaló a 7 pers...   \n",
      "898891225154985989   es  Mercosur condena “usurpación” de funciones a A...   \n",
      "898896429795557376   es  Sindicato de Anestesistas suspendió paro de 72...   \n",
      "898902552732991488   es  Motociclista cayó de más de 30 metros de altur...   \n",
      "898911492338331648   es  Meteorología actualizó la alerta amarilla por ...   \n",
      "898921225904414720   es  Encontraron al niño australiano desaparecido t...   \n",
      "\n",
      "                    cant_tweets  likes  \n",
      "898680573576724480            4     14  \n",
      "898682227919343617           21     44  \n",
      "898686499297689600            4     29  \n",
      "898693418213400576            6      9  \n",
      "898701799384854528            7     14  \n",
      "898715806888079364            1     10  \n",
      "898719444633096192            2      6  \n",
      "898880712647909377           21     27  \n",
      "898883031938867202            5      9  \n",
      "898885819452145664           17     12  \n",
      "898891225154985989            5     11  \n",
      "898896429795557376            3      7  \n",
      "898902552732991488            8     18  \n",
      "898911492338331648           19     21  \n",
      "898921225904414720            7     38  \n"
     ]
    }
   ],
   "source": [
    "%run tw_retrival.py tweets \"@Subrayado\""
   ]
  },
  {
   "cell_type": "code",
   "execution_count": 55,
   "metadata": {
    "collapsed": true
   },
   "outputs": [],
   "source": [
    "from tw_retrival import ModeloConectorTwiter"
   ]
  },
  {
   "cell_type": "code",
   "execution_count": 56,
   "metadata": {
    "collapsed": true
   },
   "outputs": [],
   "source": [
    "conector = ModeloConectorTwiter()"
   ]
  },
  {
   "cell_type": "code",
   "execution_count": 57,
   "metadata": {
    "collapsed": true
   },
   "outputs": [],
   "source": [
    "user_name = \"@Subrayado\""
   ]
  },
  {
   "cell_type": "code",
   "execution_count": 60,
   "metadata": {
    "collapsed": false
   },
   "outputs": [
    {
     "data": {
      "text/html": [
       "<div>\n",
       "<table border=\"1\" class=\"dataframe\">\n",
       "  <thead>\n",
       "    <tr style=\"text-align: right;\">\n",
       "      <th></th>\n",
       "      <th>lang</th>\n",
       "      <th>text</th>\n",
       "      <th>cant_tweets</th>\n",
       "      <th>likes</th>\n",
       "    </tr>\n",
       "  </thead>\n",
       "  <tbody>\n",
       "    <tr>\n",
       "      <th>898680573576724480</th>\n",
       "      <td>es</td>\n",
       "      <td>TESTIMONIO: Enfermera uruguaya se salvó por po...</td>\n",
       "      <td>4</td>\n",
       "      <td>14</td>\n",
       "    </tr>\n",
       "    <tr>\n",
       "      <th>898682227919343617</th>\n",
       "      <td>es</td>\n",
       "      <td>Fiscal general de Venezuela y su esposo huyero...</td>\n",
       "      <td>20</td>\n",
       "      <td>44</td>\n",
       "    </tr>\n",
       "    <tr>\n",
       "      <th>898686499297689600</th>\n",
       "      <td>es</td>\n",
       "      <td>Retiran 66 toneladas de basura de terreno bald...</td>\n",
       "      <td>4</td>\n",
       "      <td>29</td>\n",
       "    </tr>\n",
       "    <tr>\n",
       "      <th>898693418213400576</th>\n",
       "      <td>es</td>\n",
       "      <td>Comercios de pequeñas localidades podrán prest...</td>\n",
       "      <td>6</td>\n",
       "      <td>9</td>\n",
       "    </tr>\n",
       "    <tr>\n",
       "      <th>898701799384854528</th>\n",
       "      <td>es</td>\n",
       "      <td>Producción de cannabis no psicoactivo con fine...</td>\n",
       "      <td>7</td>\n",
       "      <td>14</td>\n",
       "    </tr>\n",
       "    <tr>\n",
       "      <th>898715806888079364</th>\n",
       "      <td>es</td>\n",
       "      <td>Intendentes blancos cuestionan ampliación de c...</td>\n",
       "      <td>1</td>\n",
       "      <td>10</td>\n",
       "    </tr>\n",
       "    <tr>\n",
       "      <th>898719444633096192</th>\n",
       "      <td>es</td>\n",
       "      <td>Policía cree que una célula de 12 personas per...</td>\n",
       "      <td>2</td>\n",
       "      <td>6</td>\n",
       "    </tr>\n",
       "    <tr>\n",
       "      <th>898880712647909377</th>\n",
       "      <td>es</td>\n",
       "      <td>13 departamentos bajo alerta amarilla por torm...</td>\n",
       "      <td>18</td>\n",
       "      <td>24</td>\n",
       "    </tr>\n",
       "    <tr>\n",
       "      <th>898883031938867202</th>\n",
       "      <td>es</td>\n",
       "      <td>El grupo Estado Islámico reivindica el ataque ...</td>\n",
       "      <td>5</td>\n",
       "      <td>9</td>\n",
       "    </tr>\n",
       "    <tr>\n",
       "      <th>898885819452145664</th>\n",
       "      <td>es</td>\n",
       "      <td>Un hombre armado con cuchillo apuñaló a 7 pers...</td>\n",
       "      <td>17</td>\n",
       "      <td>11</td>\n",
       "    </tr>\n",
       "    <tr>\n",
       "      <th>898891225154985989</th>\n",
       "      <td>es</td>\n",
       "      <td>Mercosur condena “usurpación” de funciones a A...</td>\n",
       "      <td>5</td>\n",
       "      <td>11</td>\n",
       "    </tr>\n",
       "    <tr>\n",
       "      <th>898896429795557376</th>\n",
       "      <td>es</td>\n",
       "      <td>Sindicato de Anestesistas suspendió paro de 72...</td>\n",
       "      <td>3</td>\n",
       "      <td>6</td>\n",
       "    </tr>\n",
       "    <tr>\n",
       "      <th>898902552732991488</th>\n",
       "      <td>es</td>\n",
       "      <td>Motociclista cayó de más de 30 metros de altur...</td>\n",
       "      <td>7</td>\n",
       "      <td>16</td>\n",
       "    </tr>\n",
       "    <tr>\n",
       "      <th>898911492338331648</th>\n",
       "      <td>es</td>\n",
       "      <td>Meteorología actualizó la alerta amarilla por ...</td>\n",
       "      <td>15</td>\n",
       "      <td>18</td>\n",
       "    </tr>\n",
       "    <tr>\n",
       "      <th>898921225904414720</th>\n",
       "      <td>es</td>\n",
       "      <td>Encontraron al niño australiano desaparecido t...</td>\n",
       "      <td>3</td>\n",
       "      <td>20</td>\n",
       "    </tr>\n",
       "  </tbody>\n",
       "</table>\n",
       "</div>"
      ],
      "text/plain": [
       "                   lang                                               text  \\\n",
       "898680573576724480   es  TESTIMONIO: Enfermera uruguaya se salvó por po...   \n",
       "898682227919343617   es  Fiscal general de Venezuela y su esposo huyero...   \n",
       "898686499297689600   es  Retiran 66 toneladas de basura de terreno bald...   \n",
       "898693418213400576   es  Comercios de pequeñas localidades podrán prest...   \n",
       "898701799384854528   es  Producción de cannabis no psicoactivo con fine...   \n",
       "898715806888079364   es  Intendentes blancos cuestionan ampliación de c...   \n",
       "898719444633096192   es  Policía cree que una célula de 12 personas per...   \n",
       "898880712647909377   es  13 departamentos bajo alerta amarilla por torm...   \n",
       "898883031938867202   es  El grupo Estado Islámico reivindica el ataque ...   \n",
       "898885819452145664   es  Un hombre armado con cuchillo apuñaló a 7 pers...   \n",
       "898891225154985989   es  Mercosur condena “usurpación” de funciones a A...   \n",
       "898896429795557376   es  Sindicato de Anestesistas suspendió paro de 72...   \n",
       "898902552732991488   es  Motociclista cayó de más de 30 metros de altur...   \n",
       "898911492338331648   es  Meteorología actualizó la alerta amarilla por ...   \n",
       "898921225904414720   es  Encontraron al niño australiano desaparecido t...   \n",
       "\n",
       "                    cant_tweets  likes  \n",
       "898680573576724480            4     14  \n",
       "898682227919343617           20     44  \n",
       "898686499297689600            4     29  \n",
       "898693418213400576            6      9  \n",
       "898701799384854528            7     14  \n",
       "898715806888079364            1     10  \n",
       "898719444633096192            2      6  \n",
       "898880712647909377           18     24  \n",
       "898883031938867202            5      9  \n",
       "898885819452145664           17     11  \n",
       "898891225154985989            5     11  \n",
       "898896429795557376            3      6  \n",
       "898902552732991488            7     16  \n",
       "898911492338331648           15     18  \n",
       "898921225904414720            3     20  "
      ]
     },
     "execution_count": 60,
     "metadata": {},
     "output_type": "execute_result"
    }
   ],
   "source": [
    "conector.recuperar_tweets_usuario(user_name)"
   ]
  },
  {
   "cell_type": "code",
   "execution_count": 86,
   "metadata": {
    "collapsed": true
   },
   "outputs": [],
   "source": [
    "class RegistroTwiter(object):\n",
    "    def __init__(self,\n",
    "                 id):\n",
    "        self.id = id\n",
    "        \n",
    "    @classmethod\n",
    "    def init_by_class(cls, id):\n",
    "        return cls(id)\n",
    "    \n",
    "    def to_dict(self):\n",
    "        return self.__dict__\n",
    "    \n",
    "    # def params"
   ]
  },
  {
   "cell_type": "code",
   "execution_count": 76,
   "metadata": {
    "collapsed": false
   },
   "outputs": [
    {
     "name": "stdout",
     "output_type": "stream",
     "text": [
      "{'id': 123}\n"
     ]
    }
   ],
   "source": [
    "reg = RegistroTwiter(23)\n",
    "\n",
    "d = RegistroTwiter.init_by_class(123).to_dict()\n",
    "print d"
   ]
  },
  {
   "cell_type": "code",
   "execution_count": 66,
   "metadata": {
    "collapsed": false
   },
   "outputs": [
    {
     "data": {
      "text/plain": [
       "{'id': 23}"
      ]
     },
     "execution_count": 66,
     "metadata": {},
     "output_type": "execute_result"
    }
   ],
   "source": [
    "reg.__dict__"
   ]
  },
  {
   "cell_type": "code",
   "execution_count": 73,
   "metadata": {
    "collapsed": false,
    "scrolled": true
   },
   "outputs": [
    {
     "name": "stdout",
     "output_type": "stream",
     "text": [
      "                   lang                                               text  \\\n",
      "898932651784097792   es  @Subrayado Internada con lesiones graves,capaz...   \n",
      "898932810798567424   es  @Subrayado Saque un proyecto que se pueda vend...   \n",
      "898933024695492609   es  @Subrayado Y si no lo quiere denunciar x miedo...   \n",
      "898933122317905920   es  RT @Subrayado: Meteorología actualizó la alert...   \n",
      "898933170401300481   es  RT @Subrayado: Mujer atropellada por diputado ...   \n",
      "898933664125288448   es  @Subrayado Pregunto los narcos que hacen con t...   \n",
      "898933708266250240   es  RT @Subrayado: Encontraron al niño australiano...   \n",
      "898936770213105664   es  RT @Subrayado: Un hombre armado con cuchillo a...   \n",
      "898936835623309312   es  RT @Subrayado: Motociclista cayó de más de 30 ...   \n",
      "898937156667793408   es  @Subrayado @EdwardHolfman Vamo el frenteeee ca...   \n",
      "898939720981508096   es  RT @Subrayado: Encontraron al niño australiano...   \n",
      "898941079881474050   es    @Subrayado De ahí salió de todo... Que raro!!!!   \n",
      "898942368283586560   es  RT @Subrayado: Estado Islámico reivindicó ataq...   \n",
      "898942681065369600   es  @Subrayado una espirometria $  200 o 250   en ...   \n",
      "898943172386189312   es  RT @Subrayado: Estado Islámico reivindicó ataq...   \n",
      "\n",
      "                    cant_tweets                  id  likes  \n",
      "898932651784097792            0  898932651784097792      0  \n",
      "898932810798567424            0  898932810798567424      0  \n",
      "898933024695492609            0  898933024695492609      0  \n",
      "898933122317905920           19  898933122317905920      0  \n",
      "898933170401300481           60  898933170401300481      0  \n",
      "898933664125288448            0  898933664125288448      0  \n",
      "898933708266250240            9  898933708266250240      0  \n",
      "898936770213105664           18  898936770213105664      0  \n",
      "898936835623309312            9  898936835623309312      0  \n",
      "898937156667793408            0  898937156667793408      0  \n",
      "898939720981508096            9  898939720981508096      0  \n",
      "898941079881474050            0  898941079881474050      0  \n",
      "898942368283586560            2  898942368283586560      0  \n",
      "898942681065369600            0  898942681065369600      0  \n",
      "898943172386189312            2  898943172386189312      0  \n"
     ]
    }
   ],
   "source": [
    "%run tw_retrival.py etiqueta \"@Subrayado\""
   ]
  },
  {
   "cell_type": "code",
   "execution_count": 85,
   "metadata": {
    "collapsed": false
   },
   "outputs": [
    {
     "name": "stdout",
     "output_type": "stream",
     "text": [
      "[(                   lang                                               text  \\\n",
      "898941134633914368   es  Estado Islámico reivindicó ataque con cuchillo...   \n",
      "898949890612621312   es  Nacional arranca el Clausura jugando en casa; ...   \n",
      "898965466739245057   es  Descarrillamiento de tren deja al menos 23 mue...   \n",
      "898975689352806400   es  AHORA: Meteorología actualiza: nueva alerta am...   \n",
      "898976691460112385  und  #Clausura2017 Comenzó en el GPC Nacional - Juv...   \n",
      "898977279258247169   es  #Clausura2017 Ya juegan también Racing-Cerro /...   \n",
      "898980398088302592   es  #Clausura2017 GOL de Nacional a los 15'. Lo hi...   \n",
      "898981753209204737   es  #Clausura2017 Amarilla para Viudez por dura pa...   \n",
      "898985639756091396   es  #Clausura2017 GOL de Nacional a los 36 del PT....   \n",
      "898986868271927300   es  #Clausura2017 Cambio en Nacional, se fue senti...   \n",
      "898988819705450498   es  #Clausura2017 Final del PT: Nacional 2-0 Juven...   \n",
      "898990704038297600   es  #Clausura2017 \\nPRIMER TIEMPO:\\nNacional 2 Juv...   \n",
      "898992721494392832  und  #Clausura2017 Comenzó el ST en el Gran Parque ...   \n",
      "898994316282138624   es  #Clausura2017 Fue amonestado Rogel en Nacional...   \n",
      "898995068123656192   es  #Clausura2017 Se salvó Juventud de recibir el ...   \n",
      "\n",
      "                    cant_tweets  likes replies                  id  \n",
      "898941134633914368            5      6    None  898941134633914368  \n",
      "898949890612621312            1     13    None  898949890612621312  \n",
      "898965466739245057            7     13    None  898965466739245057  \n",
      "898975689352806400           12     15    None  898975689352806400  \n",
      "898976691460112385            0      8    None  898976691460112385  \n",
      "898977279258247169            0      2    None  898977279258247169  \n",
      "898980398088302592            1     16    None  898980398088302592  \n",
      "898981753209204737            0      4    None  898981753209204737  \n",
      "898985639756091396            3     15    None  898985639756091396  \n",
      "898986868271927300            1      4    None  898986868271927300  \n",
      "898988819705450498            1     20    None  898988819705450498  \n",
      "898990704038297600            3     11    None  898990704038297600  \n",
      "898992721494392832            0      3    None  898992721494392832  \n",
      "898994316282138624            1      2    None  898994316282138624  \n",
      "898995068123656192            0      0    None  898995068123656192  ,                    lang                                               text  \\\n",
      "898950998449893376   pt                              @Subrayado a que hora   \n",
      "898951936468164608   es                      @Subrayado Juega Cornichelli?   \n",
      "898976104484155396   es  @Subrayado hay un viento tremendo en el norte ...   \n",
      "898976299125026818   fr             @Subrayado Paysandu,Salto,Tac y Rivera   \n",
      "898976990585393152   es  @Subrayado En que grupo de parodistas sale Ban...   \n",
      "898981959191347200   es          @Subrayado Saquenle el vino a ese plancha   \n",
      "898983653321175041   es  @Subrayado Y sigue muriendo gente inocente 🙇�...   \n",
      "898989745472143360   es  @Subrayado Por que ponen \"periodo de tiempo\" e...   \n",
      "898992631728025601   es           @Subrayado Menos atractivos los partidos   \n",
      "\n",
      "                    cant_tweets  likes             replies                  id  \n",
      "898950998449893376            0      0  898949890612621312  898950998449893376  \n",
      "898951936468164608            0      0  898949890612621312  898951936468164608  \n",
      "898976104484155396            0      0  898975689352806400  898976104484155396  \n",
      "898976299125026818            0      0  898975689352806400  898976299125026818  \n",
      "898976990585393152            0      0  898976691460112385  898976990585393152  \n",
      "898981959191347200            2      2  898981753209204737  898981959191347200  \n",
      "898983653321175041            0      0  898965466739245057  898983653321175041  \n",
      "898989745472143360            0      0  898975689352806400  898989745472143360  \n",
      "898992631728025601            0      0  898990704038297600  898992631728025601  )]\n"
     ]
    }
   ],
   "source": [
    "%run tw_retrival.py interacion \"@Subrayado\""
   ]
  },
  {
   "cell_type": "code",
   "execution_count": null,
   "metadata": {
    "collapsed": true
   },
   "outputs": [],
   "source": []
  }
 ],
 "metadata": {
  "kernelspec": {
   "display_name": "Python [conda root]",
   "language": "python",
   "name": "conda-root-py"
  },
  "language_info": {
   "codemirror_mode": {
    "name": "ipython",
    "version": 2
   },
   "file_extension": ".py",
   "mimetype": "text/x-python",
   "name": "python",
   "nbconvert_exporter": "python",
   "pygments_lexer": "ipython2",
   "version": "2.7.12"
  }
 },
 "nbformat": 4,
 "nbformat_minor": 1
}
